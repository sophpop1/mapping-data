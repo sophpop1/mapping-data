import pandas as pd

wine_data = pd.read_csv("wine ratings.csv")
